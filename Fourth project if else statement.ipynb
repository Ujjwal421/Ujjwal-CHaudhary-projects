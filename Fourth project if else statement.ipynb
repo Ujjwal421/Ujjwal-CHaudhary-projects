{
 "cells": [
  {
   "cell_type": "code",
   "execution_count": 5,
   "id": "ece40f3f",
   "metadata": {},
   "outputs": [
    {
     "data": {
      "text/plain": [
       "False"
      ]
     },
     "execution_count": 5,
     "metadata": {},
     "output_type": "execute_result"
    }
   ],
   "source": [
    "a = 5\n",
    "a == 6"
   ]
  },
  {
   "cell_type": "code",
   "execution_count": 6,
   "id": "1c0b76fb",
   "metadata": {},
   "outputs": [
    {
     "data": {
      "text/plain": [
       "True"
      ]
     },
     "execution_count": 6,
     "metadata": {},
     "output_type": "execute_result"
    }
   ],
   "source": [
    "i = 6\n",
    "i > 5"
   ]
  },
  {
   "cell_type": "code",
   "execution_count": 7,
   "id": "b04258e3",
   "metadata": {},
   "outputs": [
    {
     "data": {
      "text/plain": [
       "False"
      ]
     },
     "execution_count": 7,
     "metadata": {},
     "output_type": "execute_result"
    }
   ],
   "source": [
    "#Greater sign\n",
    "\n",
    "i = 2\n",
    "i > 5"
   ]
  },
  {
   "cell_type": "code",
   "execution_count": 8,
   "id": "9d0168d0",
   "metadata": {},
   "outputs": [
    {
     "data": {
      "text/plain": [
       "True"
      ]
     },
     "execution_count": 8,
     "metadata": {},
     "output_type": "execute_result"
    }
   ],
   "source": [
    "#INequality sign\n",
    "\n",
    "i = 2\n",
    "i != 6"
   ]
  },
  {
   "cell_type": "code",
   "execution_count": 10,
   "id": "cdfb42fe",
   "metadata": {},
   "outputs": [
    {
     "data": {
      "text/plain": [
       "False"
      ]
     },
     "execution_count": 10,
     "metadata": {},
     "output_type": "execute_result"
    }
   ],
   "source": [
    "i = 6\n",
    "i != 6"
   ]
  },
  {
   "cell_type": "code",
   "execution_count": 11,
   "id": "923ed6f8",
   "metadata": {},
   "outputs": [
    {
     "data": {
      "text/plain": [
       "False"
      ]
     },
     "execution_count": 11,
     "metadata": {},
     "output_type": "execute_result"
    }
   ],
   "source": [
    "#Compare strings\n",
    "\n",
    "\"ACDC\" == \"Michael Jackson\"\n"
   ]
  },
  {
   "cell_type": "code",
   "execution_count": 12,
   "id": "8e268734",
   "metadata": {},
   "outputs": [
    {
     "data": {
      "text/plain": [
       "True"
      ]
     },
     "execution_count": 12,
     "metadata": {},
     "output_type": "execute_result"
    }
   ],
   "source": [
    "\"ACDC\" != \"Michael Jackson\""
   ]
  },
  {
   "cell_type": "code",
   "execution_count": 13,
   "id": "4661d587",
   "metadata": {},
   "outputs": [
    {
     "data": {
      "text/plain": [
       "True"
      ]
     },
     "execution_count": 13,
     "metadata": {},
     "output_type": "execute_result"
    }
   ],
   "source": [
    "#COmpare characters\n",
    "\n",
    "'B' > 'A'"
   ]
  },
  {
   "cell_type": "code",
   "execution_count": 15,
   "id": "140f68c6",
   "metadata": {},
   "outputs": [
    {
     "data": {
      "text/plain": [
       "False"
      ]
     },
     "execution_count": 15,
     "metadata": {},
     "output_type": "execute_result"
    }
   ],
   "source": [
    "'AA' >'BB'"
   ]
  },
  {
   "cell_type": "code",
   "execution_count": 17,
   "id": "55996da9",
   "metadata": {},
   "outputs": [
    {
     "name": "stdout",
     "output_type": "stream",
     "text": [
      "I don't love her\n"
     ]
    }
   ],
   "source": [
    "#If statement example\n",
    "\n",
    "age = 19\n",
    "age = 18\n",
    "if age > 18:\n",
    "    print(\"I love her\")\n",
    "\n",
    "print(\"I don't love her\")"
   ]
  },
  {
   "cell_type": "code",
   "execution_count": 19,
   "id": "2f500d15",
   "metadata": {},
   "outputs": [
    {
     "name": "stdout",
     "output_type": "stream",
     "text": [
      "I love her\n",
      "move on\n"
     ]
    }
   ],
   "source": [
    "#Else statement\n",
    "\n",
    "age = 20\n",
    "\n",
    "if(age > 18):\n",
    "    print(\"I love her\")\n",
    "else:\n",
    "    print(\"I don't love her\")\n",
    "print(\"move on\")"
   ]
  },
  {
   "cell_type": "code",
   "execution_count": 20,
   "id": "ef2bfad0",
   "metadata": {},
   "outputs": [
    {
     "name": "stdout",
     "output_type": "stream",
     "text": [
      "you can't enter\n",
      "move on\n"
     ]
    }
   ],
   "source": [
    "#elif statement\n",
    "\n",
    "age = 10\n",
    "\n",
    "if age > 10:\n",
    "    print(\"you can enter\")\n",
    "elif age == 10:\n",
    "    print(\"you can't enter\")\n",
    "else:\n",
    "    print(\" go else where\")\n",
    "\n",
    "print(\"move on\")"
   ]
  },
  {
   "cell_type": "code",
   "execution_count": 29,
   "id": "a337dd83",
   "metadata": {},
   "outputs": [
    {
     "name": "stdout",
     "output_type": "stream",
     "text": [
      "I donot love her\n",
      "do something\n"
     ]
    }
   ],
   "source": [
    "#COndition statem,ent\n",
    "\n",
    "album_year = 1983\n",
    "album_year = 1970\n",
    "\n",
    "if album_year > 1980:\n",
    "    print(\"Album year is reater than 1980\")\n",
    "\n",
    "elif album_year == 1970:\n",
    "        print('I donot love her')\n",
    "else:\n",
    "    print(\"I love her\")\n",
    "    \n",
    "print('do something')"
   ]
  },
  {
   "cell_type": "code",
   "execution_count": 30,
   "id": "9068544c",
   "metadata": {},
   "outputs": [
    {
     "name": "stdout",
     "output_type": "stream",
     "text": [
      "Album year is greater than 1980\n",
      "do something\n"
     ]
    }
   ],
   "source": [
    "album_year = 1983\n",
    "\n",
    "if album_year > 1980:\n",
    "    print(\"Album year is greater than 1980\")\n",
    "\n",
    "else:\n",
    "    print(\"less than 1980\")\n",
    "    \n",
    "print('do something')"
   ]
  },
  {
   "cell_type": "code",
   "execution_count": null,
   "id": "aa59a452",
   "metadata": {},
   "outputs": [],
   "source": [
    "#Logical operators\n",
    "\n",
    "#and, or, not"
   ]
  },
  {
   "cell_type": "code",
   "execution_count": 33,
   "id": "e077e0af",
   "metadata": {},
   "outputs": [
    {
     "name": "stdout",
     "output_type": "stream",
     "text": [
      "Album year was in between 1980 and 1989\n",
      "\n",
      "Do stuff\n"
     ]
    }
   ],
   "source": [
    "album_year = 1979\n",
    "\n",
    "if(album_year > 1979) or (album_year < 1990):\n",
    "    print(\"Album year was in between 1980 and 1989\")\n",
    "    \n",
    "print(\"\")\n",
    "print(\"Do stuff\")"
   ]
  },
  {
   "cell_type": "code",
   "execution_count": 40,
   "id": "fb20bbd2",
   "metadata": {},
   "outputs": [
    {
     "name": "stdout",
     "output_type": "stream",
     "text": [
      "The Album was made in the 1980's\n",
      "ALbum\n"
     ]
    }
   ],
   "source": [
    "#condition example\n",
    "\n",
    "album_year = 1982\n",
    "\n",
    "if(album_year < 1980) or (album_year > 1989):\n",
    "    print(\"Album was not made in the 1980's\")\n",
    "    \n",
    "elif album_year == 1990:\n",
    "    print(\"I love her\")\n",
    "else:\n",
    "    print(\"The Album was made in the 1980's\")\n",
    "\n",
    "print('ALbum')"
   ]
  },
  {
   "cell_type": "code",
   "execution_count": 43,
   "id": "da45a177",
   "metadata": {},
   "outputs": [
    {
     "name": "stdout",
     "output_type": "stream",
     "text": [
      " I love her\n"
     ]
    }
   ],
   "source": [
    "album_year = 1984\n",
    "\n",
    "if not(album_year == 1985):\n",
    "    print(\" I love her\")"
   ]
  },
  {
   "cell_type": "code",
   "execution_count": 44,
   "id": "bfa0476e",
   "metadata": {},
   "outputs": [
    {
     "name": "stdout",
     "output_type": "stream",
     "text": [
      "This album is Amazing\n"
     ]
    }
   ],
   "source": [
    "#Quiz on statement\n",
    "\n",
    "Rating = 8.5\n",
    "if Rating > 8:\n",
    "    print(\"This album is Amazing\")"
   ]
  },
  {
   "cell_type": "code",
   "execution_count": null,
   "id": "0d8d240a",
   "metadata": {},
   "outputs": [],
   "source": []
  },
  {
   "cell_type": "code",
   "execution_count": null,
   "id": "417659a9",
   "metadata": {},
   "outputs": [],
   "source": []
  },
  {
   "cell_type": "code",
   "execution_count": null,
   "id": "d18d00cf",
   "metadata": {},
   "outputs": [],
   "source": []
  },
  {
   "cell_type": "code",
   "execution_count": null,
   "id": "14b723ed",
   "metadata": {},
   "outputs": [],
   "source": []
  }
 ],
 "metadata": {
  "kernelspec": {
   "display_name": "Python 3 (ipykernel)",
   "language": "python",
   "name": "python3"
  },
  "language_info": {
   "codemirror_mode": {
    "name": "ipython",
    "version": 3
   },
   "file_extension": ".py",
   "mimetype": "text/x-python",
   "name": "python",
   "nbconvert_exporter": "python",
   "pygments_lexer": "ipython3",
   "version": "3.9.7"
  }
 },
 "nbformat": 4,
 "nbformat_minor": 5
}
