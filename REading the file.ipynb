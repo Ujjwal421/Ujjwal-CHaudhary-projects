{
 "cells": [
  {
   "cell_type": "code",
   "execution_count": 1,
   "id": "397d154f",
   "metadata": {},
   "outputs": [
    {
     "name": "stderr",
     "output_type": "stream",
     "text": [
      "'wget' is not recognized as an internal or external command,\n",
      "operable program or batch file.\n"
     ]
    }
   ],
   "source": [
    "import urllib.request\n",
    "url = 'https://cf-courses-data.s3.us.cloud-object-storage.appdomain.cloud/IBMDeveloperSkillsNetwork-PY0101EN-SkillsNetwork/labs/Module%204/data/example1.txt'\n",
    "filename = 'Example1.txt'\n",
    "urllib.request.urlretrieve(url, filename)\n",
    "\n",
    "##Download Example file\n",
    "!wget -O /resources/data/Example1.txt https://cf-courses-data.s3.us.cloud-object-storage.appdomain.cloud/IBMDeveloperSkillsNetwork-PY0101EN-SkillsNetwork/labs/Module%204/data/example1.txt"
   ]
  },
  {
   "cell_type": "code",
   "execution_count": 9,
   "id": "ab43f992",
   "metadata": {},
   "outputs": [
    {
     "ename": "NameError",
     "evalue": "name 'pyodide' is not defined",
     "output_type": "error",
     "traceback": [
      "\u001b[1;31m---------------------------------------------------------------------------\u001b[0m",
      "\u001b[1;31mNameError\u001b[0m                                 Traceback (most recent call last)",
      "\u001b[1;32m~\\AppData\\Local\\Temp/ipykernel_16964/4289215656.py\u001b[0m in \u001b[0;36m<module>\u001b[1;34m\u001b[0m\n\u001b[1;32m----> 1\u001b[1;33m \u001b[0mpyodide\u001b[0m\u001b[1;33m.\u001b[0m\u001b[0mrunPython\u001b[0m\u001b[1;33m\u001b[0m\u001b[1;33m\u001b[0m\u001b[0m\n\u001b[0m\u001b[0;32m      2\u001b[0m \u001b[1;33m\u001b[0m\u001b[0m\n\u001b[0;32m      3\u001b[0m \u001b[1;33m\u001b[0m\u001b[0m\n\u001b[0;32m      4\u001b[0m \u001b[1;32mfrom\u001b[0m \u001b[0mpyodide\u001b[0m\u001b[1;33m.\u001b[0m\u001b[0mhttp\u001b[0m \u001b[1;32mimport\u001b[0m \u001b[0mpyfetch\u001b[0m\u001b[1;33m\u001b[0m\u001b[1;33m\u001b[0m\u001b[0m\n\u001b[0;32m      5\u001b[0m \u001b[1;32mimport\u001b[0m \u001b[0mpandas\u001b[0m \u001b[1;32mas\u001b[0m \u001b[0mpd\u001b[0m\u001b[1;33m\u001b[0m\u001b[1;33m\u001b[0m\u001b[0m\n",
      "\u001b[1;31mNameError\u001b[0m: name 'pyodide' is not defined"
     ]
    }
   ],
   "source": [
    "pyodide.runPython\n",
    "\n",
    "\n",
    "from pyodide.http import pyfetch\n",
    "import pandas as pd\n",
    "\n",
    "filename = \"https://cf-courses-data.s3.us.cloud-object-storage.appdomain.cloud/IBMDeveloperSkillsNetwork-PY0101EN-SkillsNetwork/labs/Module%204/data/example1.txt\"\n",
    "\n",
    "async def download(url, filename):\n",
    "    response = await pyfetch(url)\n",
    "    if response.status == 200:\n",
    "        with open(filename, \"wb\") as f:\n",
    "            f.write(await response.bytes())\n",
    "\n",
    "\n",
    "await download(filename, \"Example1.txt\")"
   ]
  },
  {
   "cell_type": "code",
   "execution_count": 35,
   "id": "fae96b97",
   "metadata": {},
   "outputs": [
    {
     "ename": "FileNotFoundError",
     "evalue": "[Errno 2] No such file or directory: 'Example2.txt'",
     "output_type": "error",
     "traceback": [
      "\u001b[1;31m---------------------------------------------------------------------------\u001b[0m",
      "\u001b[1;31mFileNotFoundError\u001b[0m                         Traceback (most recent call last)",
      "\u001b[1;32m~\\AppData\\Local\\Temp/ipykernel_16964/661435157.py\u001b[0m in \u001b[0;36m<module>\u001b[1;34m\u001b[0m\n\u001b[1;32m----> 1\u001b[1;33m \u001b[0mfile\u001b[0m \u001b[1;33m=\u001b[0m \u001b[0mopen\u001b[0m\u001b[1;33m(\u001b[0m\u001b[1;34m\"Example2.txt\"\u001b[0m\u001b[1;33m,\u001b[0m\u001b[1;34m'r'\u001b[0m\u001b[1;33m)\u001b[0m\u001b[1;33m\u001b[0m\u001b[1;33m\u001b[0m\u001b[0m\n\u001b[0m\u001b[0;32m      2\u001b[0m \u001b[0mfile\u001b[0m\u001b[1;33m\u001b[0m\u001b[1;33m\u001b[0m\u001b[0m\n",
      "\u001b[1;31mFileNotFoundError\u001b[0m: [Errno 2] No such file or directory: 'Example2.txt'"
     ]
    }
   ],
   "source": [
    "file = open(\"Example2.txt\",'r')\n",
    "file"
   ]
  },
  {
   "cell_type": "code",
   "execution_count": 31,
   "id": "2dd1654d",
   "metadata": {},
   "outputs": [
    {
     "data": {
      "text/plain": [
       "'Example1.txt'"
      ]
     },
     "execution_count": 31,
     "metadata": {},
     "output_type": "execute_result"
    }
   ],
   "source": [
    "example1 = \"Example1.txt\"\n",
    "file1 = open(example1, \"r\")\n",
    "\n",
    "file1.name"
   ]
  },
  {
   "cell_type": "code",
   "execution_count": 32,
   "id": "36a575af",
   "metadata": {},
   "outputs": [
    {
     "data": {
      "text/plain": [
       "'r'"
      ]
     },
     "execution_count": 32,
     "metadata": {},
     "output_type": "execute_result"
    }
   ],
   "source": [
    "file1.mode"
   ]
  },
  {
   "cell_type": "code",
   "execution_count": 33,
   "id": "0ce4695e",
   "metadata": {},
   "outputs": [
    {
     "data": {
      "text/plain": [
       "'This is line 1 \\nThis is line 2\\nThis is line 3'"
      ]
     },
     "execution_count": 33,
     "metadata": {},
     "output_type": "execute_result"
    }
   ],
   "source": [
    "FileContent = file.read()\n",
    "FileContent"
   ]
  },
  {
   "cell_type": "code",
   "execution_count": 34,
   "id": "b0438c64",
   "metadata": {},
   "outputs": [
    {
     "name": "stdout",
     "output_type": "stream",
     "text": [
      "This is line 1 \n",
      "This is line 2\n",
      "This is line 3\n"
     ]
    }
   ],
   "source": [
    "print(FileContent)"
   ]
  },
  {
   "cell_type": "code",
   "execution_count": 3,
   "id": "0b3e5d8b",
   "metadata": {},
   "outputs": [],
   "source": [
    "example1 = \"Example2.txt\"\n",
    "file1 = open(example1, \"r\")"
   ]
  },
  {
   "cell_type": "code",
   "execution_count": 4,
   "id": "abd3fd1e",
   "metadata": {},
   "outputs": [
    {
     "data": {
      "text/plain": [
       "'Example2.txt'"
      ]
     },
     "execution_count": 4,
     "metadata": {},
     "output_type": "execute_result"
    }
   ],
   "source": [
    "file1.name"
   ]
  },
  {
   "cell_type": "code",
   "execution_count": 9,
   "id": "1c6d9cc9",
   "metadata": {},
   "outputs": [
    {
     "data": {
      "text/plain": [
       "'r'"
      ]
     },
     "execution_count": 9,
     "metadata": {},
     "output_type": "execute_result"
    }
   ],
   "source": [
    "file1.mode"
   ]
  },
  {
   "cell_type": "code",
   "execution_count": 13,
   "id": "d1ba9f51",
   "metadata": {},
   "outputs": [
    {
     "data": {
      "text/plain": [
       "''"
      ]
     },
     "execution_count": 13,
     "metadata": {},
     "output_type": "execute_result"
    }
   ],
   "source": [
    "FileContent = file1.read()\n",
    "FileContent"
   ]
  },
  {
   "cell_type": "code",
   "execution_count": 45,
   "id": "99dc8015",
   "metadata": {},
   "outputs": [
    {
     "data": {
      "text/plain": [
       "str"
      ]
     },
     "execution_count": 45,
     "metadata": {},
     "output_type": "execute_result"
    }
   ],
   "source": [
    "type(FileContent)"
   ]
  },
  {
   "cell_type": "code",
   "execution_count": 46,
   "id": "3f960bbe",
   "metadata": {},
   "outputs": [
    {
     "name": "stdout",
     "output_type": "stream",
     "text": [
      "\n"
     ]
    }
   ],
   "source": [
    "print(FileContent)"
   ]
  },
  {
   "cell_type": "code",
   "execution_count": 15,
   "id": "14fad0b5",
   "metadata": {},
   "outputs": [
    {
     "name": "stdout",
     "output_type": "stream",
     "text": [
      "I love oshkino A LOT, i WILL GO ONE DAY AND SLAP HIS MOUTH AND SHOW HER HOW MUCH RICH I AM THEN WE WILL GO AND SEE THIS WHOLE EWORLD.\n"
     ]
    }
   ],
   "source": [
    "with open(example1, \"r\") as file1:\n",
    "    FileContent = file1.read()\n",
    "    print(FileContent)"
   ]
  },
  {
   "cell_type": "code",
   "execution_count": 54,
   "id": "fcba1920",
   "metadata": {},
   "outputs": [
    {
     "data": {
      "text/plain": [
       "True"
      ]
     },
     "execution_count": 54,
     "metadata": {},
     "output_type": "execute_result"
    }
   ],
   "source": []
  },
  {
   "cell_type": "code",
   "execution_count": 16,
   "id": "cbfc417f",
   "metadata": {},
   "outputs": [
    {
     "name": "stdout",
     "output_type": "stream",
     "text": [
      "I love oshkino A LOT, i WILL GO ONE DAY AND SLAP HIS MOUTH AND SHOW HER HOW MUCH RICH I AM THEN WE WILL GO AND SEE THIS WHOLE EWORLD.\n"
     ]
    }
   ],
   "source": [
    "print(FileContent)"
   ]
  },
  {
   "cell_type": "code",
   "execution_count": 17,
   "id": "2a48d935",
   "metadata": {},
   "outputs": [
    {
     "name": "stdout",
     "output_type": "stream",
     "text": [
      "I lo\n"
     ]
    }
   ],
   "source": [
    "with open(example1, \"r\") as file1:\n",
    "    print(file1.read(4))"
   ]
  },
  {
   "cell_type": "code",
   "execution_count": 18,
   "id": "7b754ae8",
   "metadata": {},
   "outputs": [
    {
     "name": "stdout",
     "output_type": "stream",
     "text": [
      "I lo\n",
      "ve osh\n",
      "kino A \n",
      "LOT, i WILL GO ONE DAY AND SLA\n"
     ]
    }
   ],
   "source": [
    "with open(example1, \"r\") as file1:\n",
    "    print(file1.read(4))\n",
    "    print(file1.read(6))\n",
    "    print(file1.read(7))\n",
    "    print(file1.read(30))"
   ]
  },
  {
   "cell_type": "code",
   "execution_count": 21,
   "id": "af50ef57",
   "metadata": {},
   "outputs": [
    {
     "name": "stdout",
     "output_type": "stream",
     "text": [
      "I love oshkino A\n",
      " LOT,\n",
      " i WILL G\n"
     ]
    }
   ],
   "source": [
    "with open(example1, \"r\") as file1:\n",
    "    print(file1.read(16))\n",
    "    print(file1.read(5))\n",
    "    print(file1.read(9))"
   ]
  },
  {
   "cell_type": "code",
   "execution_count": 20,
   "id": "5d07fa92",
   "metadata": {},
   "outputs": [
    {
     "ename": "NameError",
     "evalue": "name 'example' is not defined",
     "output_type": "error",
     "traceback": [
      "\u001b[1;31m---------------------------------------------------------------------------\u001b[0m",
      "\u001b[1;31mNameError\u001b[0m                                 Traceback (most recent call last)",
      "\u001b[1;32m~\\AppData\\Local\\Temp/ipykernel_18112/1440694032.py\u001b[0m in \u001b[0;36m<module>\u001b[1;34m\u001b[0m\n\u001b[1;32m----> 1\u001b[1;33m \u001b[1;32mwith\u001b[0m \u001b[0mopen\u001b[0m\u001b[1;33m(\u001b[0m\u001b[0mexample\u001b[0m\u001b[1;33m,\u001b[0m \u001b[1;34m\"r\"\u001b[0m\u001b[1;33m)\u001b[0m \u001b[1;32mas\u001b[0m \u001b[0mfile1\u001b[0m\u001b[1;33m:\u001b[0m\u001b[1;33m\u001b[0m\u001b[1;33m\u001b[0m\u001b[0m\n\u001b[0m\u001b[0;32m      2\u001b[0m     \u001b[0mprint\u001b[0m\u001b[1;33m(\u001b[0m\u001b[1;34m\"firstt line: \"\u001b[0m \u001b[1;33m+\u001b[0m \u001b[0mfile1\u001b[0m\u001b[1;33m.\u001b[0m\u001b[0mreadline\u001b[0m\u001b[1;33m(\u001b[0m\u001b[1;33m)\u001b[0m\u001b[1;33m)\u001b[0m\u001b[1;33m\u001b[0m\u001b[1;33m\u001b[0m\u001b[0m\n",
      "\u001b[1;31mNameError\u001b[0m: name 'example' is not defined"
     ]
    }
   ],
   "source": [
    "with open(example, \"r\") as file1:\n",
    "    print(\"firstt line: \" + file1.readline())"
   ]
  },
  {
   "cell_type": "code",
   "execution_count": 22,
   "id": "4a8bdee3",
   "metadata": {},
   "outputs": [
    {
     "name": "stdout",
     "output_type": "stream",
     "text": [
      "first line:I love oshkino A LOT, i WILL GO ONE DAY AND SLAP HIS MOUTH AND SHOW HER HOW MUCH RICH I AM THEN WE WILL GO AND SEE THIS WHOLE EWORLD.\n"
     ]
    }
   ],
   "source": [
    "with open(example1, \"r\") as file1:\n",
    "    print(\"first line:\" + file1.readline())"
   ]
  },
  {
   "cell_type": "code",
   "execution_count": 24,
   "id": "32248293",
   "metadata": {},
   "outputs": [
    {
     "name": "stdout",
     "output_type": "stream",
     "text": [
      "I love oshkino A LOT\n",
      ", i WILL GO ONE DAY \n"
     ]
    }
   ],
   "source": [
    "with open(example1, \"r\") as file1:\n",
    "    print(file1.readline(20))\n",
    "    print(file1.read(20))"
   ]
  },
  {
   "cell_type": "code",
   "execution_count": 26,
   "id": "1528c945",
   "metadata": {},
   "outputs": [],
   "source": [
    "with open(example1, \"r\") as file1:\n",
    "    FileasList = file1.readlines()"
   ]
  },
  {
   "cell_type": "code",
   "execution_count": 27,
   "id": "a063e6d9",
   "metadata": {},
   "outputs": [
    {
     "data": {
      "text/plain": [
       "'I love oshkino A LOT, i WILL GO ONE DAY AND SLAP HIS MOUTH AND SHOW HER HOW MUCH RICH I AM THEN WE WILL GO AND SEE THIS WHOLE EWORLD.'"
      ]
     },
     "execution_count": 27,
     "metadata": {},
     "output_type": "execute_result"
    }
   ],
   "source": [
    "FileasList[0]"
   ]
  },
  {
   "cell_type": "code",
   "execution_count": null,
   "id": "c584203e",
   "metadata": {},
   "outputs": [],
   "source": []
  },
  {
   "cell_type": "code",
   "execution_count": null,
   "id": "4baab86e",
   "metadata": {},
   "outputs": [],
   "source": []
  }
 ],
 "metadata": {
  "kernelspec": {
   "display_name": "Python 3 (ipykernel)",
   "language": "python",
   "name": "python3"
  },
  "language_info": {
   "codemirror_mode": {
    "name": "ipython",
    "version": 3
   },
   "file_extension": ".py",
   "mimetype": "text/x-python",
   "name": "python",
   "nbconvert_exporter": "python",
   "pygments_lexer": "ipython3",
   "version": "3.9.7"
  }
 },
 "nbformat": 4,
 "nbformat_minor": 5
}
