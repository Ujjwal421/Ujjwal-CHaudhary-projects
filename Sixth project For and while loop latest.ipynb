{
 "cells": [
  {
   "cell_type": "code",
   "execution_count": 11,
   "id": "5ce7b5ea",
   "metadata": {},
   "outputs": [
    {
     "name": "stdout",
     "output_type": "stream",
     "text": [
      "green\n"
     ]
    }
   ],
   "source": [
    "squares = [\"red\",\"yellow\",\"green\",\"purple\",\"blue\"]\n",
    "\n",
    "for i in range(0,5):\n",
    "    squares[1]=\"white\"\n",
    "print(square)"
   ]
  },
  {
   "cell_type": "code",
   "execution_count": 9,
   "id": "b75e0ee2",
   "metadata": {},
   "outputs": [
    {
     "name": "stdout",
     "output_type": "stream",
     "text": [
      "green\n"
     ]
    }
   ],
   "source": [
    "squares = [\"red\",\"yellow\",\"green\"]\n",
    "for square in squares:\n",
    "    square\n",
    "print(square)"
   ]
  },
  {
   "cell_type": "code",
   "execution_count": 15,
   "id": "aa67d875",
   "metadata": {},
   "outputs": [
    {
     "name": "stdout",
     "output_type": "stream",
     "text": [
      "2\n"
     ]
    }
   ],
   "source": [
    "squares = [\"red\",\"yellow\",\"green\"]\n",
    "for i, square in enumerate(squares):\n",
    "    square\n",
    "    i\n",
    "print(i)"
   ]
  },
  {
   "cell_type": "code",
   "execution_count": 16,
   "id": "a131d1f8",
   "metadata": {},
   "outputs": [
    {
     "name": "stdout",
     "output_type": "stream",
     "text": [
      "0 A\n",
      "1 B\n",
      "2 C\n"
     ]
    }
   ],
   "source": [
    "for i,x in enumerate(['A','B','C']):\n",
    "    print(i,x)"
   ]
  },
  {
   "cell_type": "code",
   "execution_count": null,
   "id": "c21cbb97",
   "metadata": {},
   "outputs": [],
   "source": [
    "#while loops"
   ]
  },
  {
   "cell_type": "code",
   "execution_count": 18,
   "id": "30e25dd6",
   "metadata": {},
   "outputs": [
    {
     "name": "stdout",
     "output_type": "stream",
     "text": [
      "['orange', 'orange']\n"
     ]
    }
   ],
   "source": [
    "squares = [\"orange\",\"orange\",\"purple\",\"orange\",\"blue\"]\n",
    "Newsquares=[]\n",
    "i = 0\n",
    "\n",
    "while(squares[i]==\"orange\"):\n",
    "    Newsquares.append(squares[i])\n",
    "    i = i + 1\n",
    "\n",
    "print(Newsquares)"
   ]
  },
  {
   "cell_type": "code",
   "execution_count": 19,
   "id": "a58c2ce0",
   "metadata": {},
   "outputs": [
    {
     "data": {
      "text/plain": [
       "range(0, 3)"
      ]
     },
     "execution_count": 19,
     "metadata": {},
     "output_type": "execute_result"
    }
   ],
   "source": [
    "range(3)"
   ]
  },
  {
   "cell_type": "code",
   "execution_count": 23,
   "id": "349953be",
   "metadata": {},
   "outputs": [
    {
     "name": "stdout",
     "output_type": "stream",
     "text": [
      "1982\n",
      "1980\n",
      "1973\n"
     ]
    }
   ],
   "source": [
    "#for loop example\n",
    "\n",
    "dates = [1982,1980,1973]\n",
    "N = len(dates)\n",
    "\n",
    "for i in range(N):\n",
    "    print(dates[i])"
   ]
  },
  {
   "cell_type": "code",
   "execution_count": 24,
   "id": "b2f856c7",
   "metadata": {},
   "outputs": [
    {
     "name": "stdout",
     "output_type": "stream",
     "text": [
      "0\n",
      "1\n",
      "2\n",
      "3\n",
      "4\n",
      "5\n",
      "6\n",
      "7\n"
     ]
    }
   ],
   "source": [
    "for i in range(0,8):\n",
    "    print(i)"
   ]
  },
  {
   "cell_type": "code",
   "execution_count": 25,
   "id": "a84889d9",
   "metadata": {},
   "outputs": [
    {
     "name": "stdout",
     "output_type": "stream",
     "text": [
      "1982\n",
      "1980\n",
      "1973\n"
     ]
    }
   ],
   "source": [
    "for year in dates:\n",
    "    print(year)"
   ]
  },
  {
   "cell_type": "code",
   "execution_count": 27,
   "id": "82168861",
   "metadata": {},
   "outputs": [
    {
     "name": "stdout",
     "output_type": "stream",
     "text": [
      "Before square  0 is red\n",
      "After square  is white\n",
      "Before square  1 is yellow\n",
      "After square  is white\n",
      "Before square  2 is green\n",
      "After square  is white\n",
      "Before square  3 is purple\n",
      "After square  is white\n",
      "Before square  4 is blue\n",
      "After square  is white\n"
     ]
    }
   ],
   "source": [
    "#Use for loop\n",
    "\n",
    "squares = ['red', 'yellow', 'green', 'purple', 'blue']\n",
    "\n",
    "for i in range(0, 5):\n",
    "    print(\"Before square \", i, \"is\", squares[i])\n",
    "    squares[i] = 'white'\n",
    "    print(\"After square \", 'is', squares[i])"
   ]
  },
  {
   "cell_type": "code",
   "execution_count": 28,
   "id": "6434cfdb",
   "metadata": {},
   "outputs": [
    {
     "name": "stdout",
     "output_type": "stream",
     "text": [
      "0 red\n",
      "1 yellow\n",
      "2 green\n",
      "3 purple\n",
      "4 blue\n"
     ]
    }
   ],
   "source": [
    "squares=['red','yellow','green','purple','blue']\n",
    "\n",
    "for i, square in enumerate(squares):\n",
    "    print(i, square)"
   ]
  },
  {
   "cell_type": "code",
   "execution_count": 31,
   "id": "ddce2a2d",
   "metadata": {},
   "outputs": [
    {
     "name": "stdout",
     "output_type": "stream",
     "text": [
      "1982\n",
      "1990\n",
      "It took  2 reptitions to get out of loop.\n"
     ]
    }
   ],
   "source": [
    "#While loop\n",
    "\n",
    "dates = [1982, 1990, 1973, 2000]\n",
    "\n",
    "i = 0\n",
    "year = dates[0]\n",
    "\n",
    "while(year != 1973):\n",
    "    print(year)\n",
    "    i = i + 1\n",
    "    year = dates[i]\n",
    "    \n",
    "print(\"It took \", i , \"reptitions to get out of loop.\")"
   ]
  },
  {
   "cell_type": "code",
   "execution_count": 36,
   "id": "a7c899b1",
   "metadata": {},
   "outputs": [
    {
     "name": "stdout",
     "output_type": "stream",
     "text": [
      "1982\n",
      "1980\n",
      "1973\n",
      "It took 3 out to take out of looop\n"
     ]
    }
   ],
   "source": [
    "dates=[1982,1980,1973,1992]\n",
    "\n",
    "i = 0;\n",
    "year = dates[0]\n",
    "while(year!=1973):\n",
    "    year=dates[i]\n",
    "    i=i+1\n",
    "    print(year)\n",
    "\n",
    "print(\"It took\",i,\"out to take out of looop\")"
   ]
  },
  {
   "cell_type": "code",
   "execution_count": 37,
   "id": "c30fad72",
   "metadata": {},
   "outputs": [
    {
     "data": {
      "text/plain": [
       "range(-5, 5)"
      ]
     },
     "execution_count": 37,
     "metadata": {},
     "output_type": "execute_result"
    }
   ],
   "source": [
    "#QUIZ for loop\n",
    "\n",
    "range(-5, 5)"
   ]
  },
  {
   "cell_type": "code",
   "execution_count": 42,
   "id": "15505279",
   "metadata": {},
   "outputs": [
    {
     "name": "stdout",
     "output_type": "stream",
     "text": [
      "-5\n",
      "-4\n",
      "-3\n",
      "-2\n",
      "-1\n",
      "0\n",
      "1\n",
      "2\n",
      "3\n",
      "4\n"
     ]
    }
   ],
   "source": [
    "for i in range(-5,5):\n",
    "    print(i)"
   ]
  },
  {
   "cell_type": "code",
   "execution_count": 44,
   "id": "81f25c8e",
   "metadata": {},
   "outputs": [
    {
     "name": "stdout",
     "output_type": "stream",
     "text": [
      "rock\n",
      "R&B\n",
      "Soundtrack\n",
      "R&B\n",
      "soul\n",
      "pop\n"
     ]
    }
   ],
   "source": [
    "Genres=[ 'rock', 'R&B', 'Soundtrack', 'R&B', 'soul', 'pop']\n",
    "\n",
    "for genre in Genres:\n",
    "    print(genre)"
   ]
  },
  {
   "cell_type": "code",
   "execution_count": 45,
   "id": "80b9a1b7",
   "metadata": {},
   "outputs": [
    {
     "name": "stdout",
     "output_type": "stream",
     "text": [
      "red\n",
      "yellow\n",
      "green\n",
      "purple\n",
      "blue\n"
     ]
    }
   ],
   "source": [
    "#for loop\n",
    "\n",
    "squares=['red', 'yellow', 'green', 'purple', 'blue']\n",
    "\n",
    "for square in squares:\n",
    "    print(square)"
   ]
  },
  {
   "cell_type": "code",
   "execution_count": 5,
   "id": "4058d11a",
   "metadata": {},
   "outputs": [
    {
     "name": "stdout",
     "output_type": "stream",
     "text": [
      "10\n",
      "10\n",
      "9.5\n",
      "10\n",
      "8\n",
      "7.5\n"
     ]
    }
   ],
   "source": [
    "#while loop\n",
    "\n",
    "PlayListRatings = [10, 9.5, 10, 8, 7.5, 5, 10, 10]\n",
    "i = 0\n",
    "Rating = PlayListRatings[0]\n",
    "\n",
    "while(i < len(PlayListRatings) and Rating >= 6):\n",
    "    print(Rating)\n",
    "    Rating = PlayListRatings[i]\n",
    "    i = i + 1\n"
   ]
  },
  {
   "cell_type": "code",
   "execution_count": null,
   "id": "3a28b54a",
   "metadata": {},
   "outputs": [],
   "source": []
  },
  {
   "cell_type": "code",
   "execution_count": null,
   "id": "1722ae3f",
   "metadata": {},
   "outputs": [],
   "source": [
    "squares = [\"orange\",\"orange\",\"purple\",\"orange\",\"blue\"]\n",
    "Newsquares=[]\n",
    "i = 0\n",
    "\n",
    "while(squares[i]==\"orange\"):\n",
    "    Newsquares.append(squares[i])\n",
    "    i = i + 1\n",
    "\n",
    "print(Newsquares)"
   ]
  },
  {
   "cell_type": "code",
   "execution_count": 8,
   "id": "226cf5ab",
   "metadata": {},
   "outputs": [
    {
     "name": "stdout",
     "output_type": "stream",
     "text": [
      "['orange', 'orange']\n"
     ]
    }
   ],
   "source": [
    "squares = ['orange', 'orange', 'purple', 'blue', 'orange']\n",
    "new_squares = []\n",
    "i = 0;\n",
    "oranges = squares[0]\n",
    "while(squares[i]==\"orange\"):\n",
    "    new_squares.append(squares[i])\n",
    "    i = i + 1\n",
    "\n",
    "print(new_squares)"
   ]
  },
  {
   "cell_type": "code",
   "execution_count": 9,
   "id": "371f6101",
   "metadata": {},
   "outputs": [
    {
     "data": {
      "text/plain": [
       "5"
      ]
     },
     "execution_count": 9,
     "metadata": {},
     "output_type": "execute_result"
    }
   ],
   "source": [
    "len(squares)"
   ]
  },
  {
   "cell_type": "code",
   "execution_count": 18,
   "id": "4166f488",
   "metadata": {},
   "outputs": [
    {
     "name": "stdout",
     "output_type": "stream",
     "text": [
      "10\n",
      "10\n",
      "9.5\n",
      "10\n",
      "8\n",
      "7.5\n"
     ]
    }
   ],
   "source": [
    "PlayListRatings = [10, 9.5, 10, 8, 7.5, 5, 10, 10]\n",
    "i = 0\n",
    "Rating = PlayListRatings[i]\n",
    "while(i < len(PlayListRatings) and Rating >= 6):\n",
    "    print(Rating)\n",
    "    Rating = PlayListRatings[i]\n",
    "    i = i + 1"
   ]
  },
  {
   "cell_type": "code",
   "execution_count": null,
   "id": "a8fc1929",
   "metadata": {},
   "outputs": [],
   "source": []
  },
  {
   "cell_type": "code",
   "execution_count": null,
   "id": "08b03eef",
   "metadata": {},
   "outputs": [],
   "source": []
  }
 ],
 "metadata": {
  "kernelspec": {
   "display_name": "Python 3 (ipykernel)",
   "language": "python",
   "name": "python3"
  },
  "language_info": {
   "codemirror_mode": {
    "name": "ipython",
    "version": 3
   },
   "file_extension": ".py",
   "mimetype": "text/x-python",
   "name": "python",
   "nbconvert_exporter": "python",
   "pygments_lexer": "ipython3",
   "version": "3.9.7"
  }
 },
 "nbformat": 4,
 "nbformat_minor": 5
}
